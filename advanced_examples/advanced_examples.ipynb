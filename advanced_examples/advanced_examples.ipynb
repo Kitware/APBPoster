{
 "metadata": {
  "language_info": {
   "codemirror_mode": {
    "name": "ipython",
    "version": 3
   },
   "file_extension": ".py",
   "mimetype": "text/x-python",
   "name": "python",
   "nbconvert_exporter": "python",
   "pygments_lexer": "ipython3",
   "version": "3.8.4"
  },
  "orig_nbformat": 4,
  "kernelspec": {
   "name": "python3",
   "display_name": "Python 3.8.4 64-bit"
  },
  "interpreter": {
   "hash": "f8a2822af413ab18054229020dce570b81de7e24df323ea365c955a3417b0b8a"
  }
 },
 "nbformat": 4,
 "nbformat_minor": 2,
 "cells": [
  {
   "source": [
    "AutoPyBind11 does PyBind11's Test Suite\n",
    "=======================================\n",
    "\n",
    "This directory serves to host the PyBind11 test Suite\n",
    "as interpreted by AutoPyBind11. This notebook will\n",
    "generate binding code and Python modules."
   ],
   "cell_type": "markdown",
   "metadata": {}
  },
  {
   "source": [
    "This example contains a number of subdirectories, each with their own CMake driver file, C++ source code, and AutoPyBind11 descriptor file. To engage with these examples, assign the name of the directory to the `example_directory` variable below, and execute the following code cells, to view the CMake file and generated code, as well as to build the Python module.\n",
    "\n",
    "Then create a new cell and import the chosen module with the same idiom as immediately below:\n",
    "\n",
    "```\n",
    "from class import ClassMod\n",
    "```\n",
    "\n",
    "The generated modules are named by the pascal case convention of the name of the directory with the term Mod appended to the end.\n",
    "\n",
    "Multiple modules can be generated and tested individually, or together. The directories are not blown away at the end of each test, so modules can be generated one by one by the calls to build the Python modules, or by providing a list to the `example_directory` variable."
   ],
   "cell_type": "markdown",
   "metadata": {}
  },
  {
   "cell_type": "code",
   "execution_count": 1,
   "metadata": {},
   "outputs": [],
   "source": [
    "example_directory = \"class\""
   ]
  },
  {
   "cell_type": "code",
   "execution_count": 2,
   "metadata": {},
   "outputs": [
    {
     "output_type": "error",
     "ename": "NameError",
     "evalue": "name 'configure_sample_cmakelists' is not defined",
     "traceback": [
      "\u001b[1;31m---------------------------------------------------------------------------\u001b[0m",
      "\u001b[1;31mNameError\u001b[0m                                 Traceback (most recent call last)",
      "\u001b[1;32m<ipython-input-2-70778ade177c>\u001b[0m in \u001b[0;36m<module>\u001b[1;34m\u001b[0m\n\u001b[0;32m      4\u001b[0m \u001b[1;33m\u001b[0m\u001b[0m\n\u001b[0;32m      5\u001b[0m \u001b[0moutput_file\u001b[0m \u001b[1;33m=\u001b[0m \u001b[0mos\u001b[0m\u001b[1;33m.\u001b[0m\u001b[0msep\u001b[0m\u001b[1;33m.\u001b[0m\u001b[0mjoin\u001b[0m\u001b[1;33m(\u001b[0m\u001b[1;33m[\u001b[0m\u001b[0mexample_directory\u001b[0m\u001b[1;33m,\u001b[0m\u001b[1;34m\"CMakeLists.txt\"\u001b[0m\u001b[1;33m]\u001b[0m\u001b[1;33m)\u001b[0m\u001b[1;33m\u001b[0m\u001b[1;33m\u001b[0m\u001b[0m\n\u001b[1;32m----> 6\u001b[1;33m configure_sample_cmakelists(\n\u001b[0m\u001b[0;32m      7\u001b[0m     \u001b[0mUP_NAME\u001b[0m\u001b[1;33m=\u001b[0m\u001b[1;34m\"APB\"\u001b[0m\u001b[1;33m+\u001b[0m\u001b[0mexample_directory\u001b[0m\u001b[1;33m,\u001b[0m\u001b[1;33m\u001b[0m\u001b[1;33m\u001b[0m\u001b[0m\n\u001b[0;32m      8\u001b[0m     \u001b[0mMOD_NAME\u001b[0m\u001b[1;33m=\u001b[0m\u001b[0mexample_directory\u001b[0m\u001b[1;33m,\u001b[0m\u001b[1;33m\u001b[0m\u001b[1;33m\u001b[0m\u001b[0m\n",
      "\u001b[1;31mNameError\u001b[0m: name 'configure_sample_cmakelists' is not defined"
     ]
    }
   ],
   "source": [
    "import os, sys\n",
    "sys.path.append(os.sep.join([os.getcwd(),\"..\"]))\n",
    "from poster_helpers import *\n",
    "\n",
    "output_file = os.sep.join([example_directory,\"CMakeLists.txt\"])\n",
    "configure_sample_cmakelists(\n",
    "    UP_NAME=\"APB\"+example_directory,\n",
    "    MOD_NAME=example_directory,\n",
    "    OUTPUT_FILE=os.sep.join([os.getcwd(),output_file])\n",
    "    )\n",
    "os.chdir(os.sep.join([os.getcwd(),example_directory]))\n",
    "display_cmakelists()"
   ]
  },
  {
   "cell_type": "code",
   "execution_count": null,
   "metadata": {},
   "outputs": [],
   "source": [
    "drive_cmake()"
   ]
  },
  {
   "cell_type": "code",
   "execution_count": null,
   "metadata": {},
   "outputs": [],
   "source": [
    "visualize_binding_code(example_directory)"
   ]
  },
  {
   "cell_type": "code",
   "execution_count": null,
   "metadata": {},
   "outputs": [],
   "source": []
  }
 ]
}