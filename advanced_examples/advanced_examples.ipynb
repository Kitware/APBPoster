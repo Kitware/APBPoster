{
 "cells": [
  {
   "cell_type": "markdown",
   "metadata": {},
   "source": [
    "AutoPyBind11 does PyBind11's Test Suite\n",
    "=======================================\n",
    "\n",
    "This directory serves to host the PyBind11 test Suite\n",
    "as interpreted by AutoPyBind11. This notebook will\n",
    "generate binding code and Python modules."
   ]
  },
  {
   "cell_type": "markdown",
   "metadata": {},
   "source": [
    "This example contains a number of subdirectories, each with their own CMake driver file, C++ source code, and AutoPyBind11 descriptor file. To engage with these examples, assign the name of the directory to the `example_directory` variable below, and execute the following code cells, to view the CMake file and generated code, as well as to build the Python module.\n",
    "\n",
    "Then create a new cell and import the chosen module with the same idiom as immediately below:\n",
    "\n",
    "```\n",
    "from class import ClassMod\n",
    "```\n",
    "\n",
    "The generated modules are named by the pascal case convention of the name of the directory with the term Mod appended to the end.\n",
    "\n",
    "Multiple modules can be generated and tested individually, or together. The directories are not blown away at the end of each test, so modules can be generated one by one by the calls to build the Python modules, or by providing a list to the `example_directory` variable."
   ]
  },
  {
   "cell_type": "code",
   "execution_count": null,
   "metadata": {},
   "outputs": [],
   "source": [
    "example_directory = \"class\""
   ]
  },
  {
   "cell_type": "code",
   "execution_count": null,
   "metadata": {},
   "outputs": [],
   "source": [
    "import os, sys\r\n",
    "sys.path.append(os.sep.join([os.getcwd(),\"..\"]))\r\n",
    "from poster_helpers import *\r\n",
    "\r\n",
    "local_cmakelist = os.sep.join([example_directory,\"CMakeLists.txt\"])\r\n",
    "output_file = os.sep.join([os.getcwd(),local_cmakelist])\r\n",
    "configure_sample_cmakelists(\r\n",
    "    UP_NAME=\"APB\"+example_directory,\r\n",
    "    MOD_NAME=example_directory,\r\n",
    "    OUTPUT_FILE=output_file,\r\n",
    "    )\r\n",
    "os.chdir(os.sep.join([os.getcwd(),example_directory]))\r\n",
    "display_cmakelists(output_file)"
   ]
  },
  {
   "cell_type": "code",
   "execution_count": null,
   "metadata": {},
   "outputs": [],
   "source": [
    "!mkdir build\r\n",
    "os.chdir(\"build\")\r\n",
    "drive_cmake()"
   ]
  },
  {
   "cell_type": "code",
   "execution_count": null,
   "metadata": {},
   "outputs": [],
   "source": [
    "visualize_binding_code(\"%sMOD.cpp\" % example_directory)"
   ]
  },
  {
   "cell_type": "code",
   "execution_count": null,
   "metadata": {},
   "outputs": [],
   "source": []
  }
 ],
 "metadata": {
  "interpreter": {
   "hash": "f8a2822af413ab18054229020dce570b81de7e24df323ea365c955a3417b0b8a"
  },
  "kernelspec": {
   "display_name": "Python 3.8.4 64-bit",
   "name": "python3"
  },
  "language_info": {
   "codemirror_mode": {
    "name": "ipython",
    "version": 3
   },
   "file_extension": ".py",
   "mimetype": "text/x-python",
   "name": "python",
   "nbconvert_exporter": "python",
   "pygments_lexer": "ipython3",
   "version": "3.8.4"
  },
  "orig_nbformat": 4
 },
 "nbformat": 4,
 "nbformat_minor": 2
}