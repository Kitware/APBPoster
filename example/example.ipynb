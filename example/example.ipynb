{
 "cells": [
  {
   "cell_type": "markdown",
   "metadata": {},
   "source": [
    "AutoPyBind11 Example Notebook\n",
    "=============================\n"
   ]
  },
  {
   "cell_type": "markdown",
   "metadata": {},
   "source": [
    "Example simple wrapper file:\n",
    "```yaml\n",
    "files:\n",
    "  main.cpp:\n",
    "    functions:\n",
    "      add:\n",
    "      sub:\n",
    "```\n"
   ]
  },
  {
   "cell_type": "markdown",
   "metadata": {},
   "source": [
    "Sample CMake project file:\n",
    "```cmake\n",
    "add_library(example src/main.cpp)\n",
    "target_include_directories(example PUBLIC ${CMAKE_CURRENT_SOURCE_DIR}/src)\n",
    "\n",
    "autopybind11_add_module(exampleMod\n",
    "                        YAML_INPUT ${CMAKE_CURRENT_SOURCE_DIR}/example_wrap.yml\n",
    "                        DESTINATION ${CMAKE_CURRENT_BINARY_DIR}\n",
    "                        LINK_LIBRARIES example)\n",
    "```\n",
    "Here we do not included the steps needed to install or include AutoPyBind11. For an example of this process, see the advanced examples directory."
   ]
  },
  {
   "cell_type": "markdown",
   "metadata": {},
   "source": [
    "C++ code to be bound by AutoPyBind11\n",
    "```cpp\n",
    "\n",
    "// Sum two numbers\n",
    "int add(int i, int j) {\n",
    "    return i + j;\n",
    "}\n",
    "\n",
    "// Subtract two numbers\n",
    "int sub(int i, int j) {\n",
    "    return i - j;\n",
    "}\n",
    "```"
   ]
  },
  {
   "cell_type": "markdown",
   "metadata": {},
   "source": [
    "CMake useage example"
   ]
  },
  {
   "cell_type": "code",
   "execution_count": null,
   "metadata": {},
   "outputs": [],
   "source": [
    "!mkdir build\n",
    "!cd build && cmake .. && cmake --build . "
   ]
  },
  {
   "cell_type": "markdown",
   "metadata": {},
   "source": [
    "Now that AutoPyBind11 has generated binidng code and produced a Python module, lets view the generated binding code, and test out the module"
   ]
  },
  {
   "cell_type": "markdown",
   "metadata": {},
   "source": [
    "Binding code output:"
   ]
  },
  {
   "cell_type": "code",
   "execution_count": null,
   "metadata": {},
   "outputs": [],
   "source": [
    "!python ../poster_helpers/render_binding_code.py --code_dir ./build/exampleMod_free_functions_py.cpp"
   ]
  },
  {
   "cell_type": "markdown",
   "metadata": {},
   "source": [
    "In order to interact with the generated python code, add the location of the generated binary to the system path via the call below."
   ]
  },
  {
   "cell_type": "code",
   "execution_count": null,
   "metadata": {},
   "outputs": [],
   "source": [
    "import sys, os\n",
    "sys.path.append()\n",
    "import exampleMod\n",
    "\n",
    "print(\"ExampleMod test of add of 1 and 2 is {}\".format(exampleMod.add(1,2)))\n",
    "print(\"ExampleMod test of sub of 1 from 5 is {}\".format(exampleMod.sub(5,1)))"
   ]
  },
  {
   "cell_type": "code",
   "execution_count": null,
   "metadata": {},
   "outputs": [],
   "source": []
  }
 ],
 "metadata": {
  "interpreter": {
   "hash": "e7a6a2a0faef9b3dca8eee8d2f0177f3278be1cb967e7fc435687a2394b4cb7a"
  },
  "kernelspec": {
   "display_name": "Python 3.7.8 64-bit",
   "name": "python3"
  },
  "language_info": {
   "name": "python",
   "version": ""
  },
  "orig_nbformat": 2
 },
 "nbformat": 4,
 "nbformat_minor": 2
}