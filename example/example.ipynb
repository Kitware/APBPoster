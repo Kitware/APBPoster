{
 "metadata": {
  "language_info": {
   "codemirror_mode": {
    "name": "ipython",
    "version": 3
   },
   "file_extension": ".py",
   "mimetype": "text/x-python",
   "name": "python",
   "nbconvert_exporter": "python",
   "pygments_lexer": "ipython3",
   "version": "3.7.8"
  },
  "orig_nbformat": 2,
  "kernelspec": {
   "name": "python3",
   "display_name": "Python 3.7.8 64-bit"
  },
  "interpreter": {
   "hash": "e7a6a2a0faef9b3dca8eee8d2f0177f3278be1cb967e7fc435687a2394b4cb7a"
  }
 },
 "nbformat": 4,
 "nbformat_minor": 2,
 "cells": [
  {
   "source": [
    "AutoPyBind11 Example Notebook\n",
    "=============================\n"
   ],
   "cell_type": "markdown",
   "metadata": {}
  },
  {
   "source": [
    "Example simple wrapper file:\n",
    "```yaml\n",
    "files:\n",
    "  main.cpp:\n",
    "    functions:\n",
    "      add:\n",
    "      sub:\n",
    "```\n"
   ],
   "cell_type": "markdown",
   "metadata": {}
  },
  {
   "source": [
    "Sample CMake project file:\n",
    "```cmake\n",
    "add_library(example src/main.cpp)\n",
    "target_include_directories(example PUBLIC ${CMAKE_CURRENT_SOURCE_DIR}/src)\n",
    "\n",
    "autopybind11_add_module(exampleMod\n",
    "                        YAML_INPUT ${CMAKE_CURRENT_SOURCE_DIR}/example_wrap.yml\n",
    "                        DESTINATION ${CMAKE_CURRENT_BINARY_DIR}\n",
    "                        LINK_LIBRARIES example)\n",
    "```\n",
    "Here we do not included the steps needed to install or include AutoPyBind11. For an example of this process, see the advanced examples directory."
   ],
   "cell_type": "markdown",
   "metadata": {}
  },
  {
   "source": [
    "C++ code to be bound by AutoPyBind11\n",
    "```cpp\n",
    "\n",
    "// Sum two numbers\n",
    "int add(int i, int j) {\n",
    "    return i + j;\n",
    "}\n",
    "\n",
    "// Subtract two numbers\n",
    "int sub(int i, int j) {\n",
    "    return i - j;\n",
    "}\n",
    "```"
   ],
   "cell_type": "markdown",
   "metadata": {}
  },
  {
   "source": [
    "CMake useage example"
   ],
   "cell_type": "markdown",
   "metadata": {}
  },
  {
   "cell_type": "code",
   "execution_count": 1,
   "metadata": {},
   "outputs": [
    {
     "output_type": "stream",
     "name": "stdout",
     "text": [
      "-- Building for: Visual Studio 16 2019\n",
      "-- The CXX compiler identification is MSVC 19.28.29910.0\n",
      "-- Detecting CXX compiler ABI info\n",
      "-- Detecting CXX compiler ABI info - done\n",
      "-- Check for working CXX compiler: C:/Program Files (x86)/Microsoft Visual Studio/2019/Community/VC/Tools/MSVC/14.28.29910/bin/Hostx64/x64/cl.exe - skipped\n",
      "-- Detecting CXX compile features\n",
      "-- Detecting CXX compile features - done\n",
      "-- Found Python3: C:/Users/john.parent/AppData/Local/Programs/Python/Python38/python.exe (found version \"3.8.4\") found components: Interpreter \n",
      "-- Found Python3: C:/Users/john.parent/AppData/Local/Programs/Python/Python38/python.exe (found version \"3.8.4\") found components: Interpreter Development Development.Module Development.Embed \n",
      "-- Populating pybind11\n",
      "-- Configuring done\n",
      "-- Generating done\n",
      "-- Build files have been written to: C:/apb_poster/example/build/_deps/pybind11-subbuild\n",
      "Microsoft (R) Build Engine version 16.9.0+57a23d249 for .NET Framework\n",
      "Copyright (C) Microsoft Corporation. All rights reserved.\n",
      "\n",
      "  Checking Build System\n",
      "  Creating directories for 'pybind11-populate'\n",
      "  Performing download step (git clone) for 'pybind11-populate'\n",
      "  Cloning into 'pybind11-src'...WARNING: You are using pip version 21.0.1; however, version 21.1.3 is available.\n",
      "You should consider upgrading via the 'C:\\Users\\john.parent\\AppData\\Local\\Programs\\Python\\Python38\\python.exe -m pip install --upgrade pip' command.\n",
      "\n",
      "  Note: switching to 'v2.5.0'.\n",
      "  \n",
      "  You are in 'detached HEAD' state. You can look around, make experimental\n",
      "  changes and commit them, and you can discard any commits you make in this\n",
      "  state without impacting any branches by switching back to a branch.\n",
      "  \n",
      "  If you want to create a new branch to retain commits you create, you may\n",
      "  do so (now or later) by using -c with the switch command. Example:\n",
      "  \n",
      "    git switch -c <new-branch-name>\n",
      "  \n",
      "  Or undo this operation with:\n",
      "  \n",
      "    git switch -\n",
      "  \n",
      "  Turn off this advice by setting config variable advice.detachedHead to false\n",
      "  \n",
      "  HEAD is now at 3b1dbeb v2.5.0 release\n",
      "  Submodule 'tools/clang' (https://github.com/wjakob/clang-cindex-python3) registered for path 'tools/clang'\n",
      "  Cloning into 'C:/apb_poster/example/build/_deps/pybind11-src/tools/clang'...\n",
      "  Submodule path 'tools/clang': checked out '6a00cbc4a9b8e68b71caf7f774b3f9c753ae84d5'\n",
      "  Performing update step for 'pybind11-populate'\n",
      "  No patch step for 'pybind11-populate'\n",
      "  No configure step for 'pybind11-populate'\n",
      "  No build step for 'pybind11-populate'\n",
      "  No install step for 'pybind11-populate'\n",
      "  No test step for 'pybind11-populate'\n",
      "  Completed 'pybind11-populate'\n",
      "  Building Custom Rule C:/apb_poster/example/build/_deps/pybind11-subbuild/CMakeLists.txt\n",
      "  Building Custom Rule C:/apb_poster/example/build/_deps/pybind11-subbuild/CMakeLists.txt\n",
      "-- Found PythonInterp: C:/Users/john.parent/AppData/Local/Programs/Python/Python38/python.exe (found version \"3.8.4\") \n",
      "-- Found PythonLibs: C:/Users/john.parent/AppData/Local/Programs/Python/Python38/libs/Python38.lib\n",
      "-- pybind11 v2.5.0\n",
      "Obtaining file:///C:/apb_poster/example/build/_deps/autopybind11-src\n",
      "  Installing build dependencies: started\n",
      "  Installing build dependencies: finished with status 'done'\n",
      "  Getting requirements to build wheel: started\n",
      "  Getting requirements to build wheel: finished with status 'done'\n",
      "    Preparing wheel metadata: started\n",
      "    Preparing wheel metadata: finished with status 'done'\n",
      "Requirement already satisfied: pycodestyle in c:\\users\\john.parent\\appdata\\local\\programs\\python\\python38\\lib\\site-packages (from autopybind11==0.1a0) (2.6.0)\n",
      "Requirement already satisfied: toposort in c:\\users\\john.parent\\appdata\\local\\programs\\python\\python38\\lib\\site-packages (from autopybind11==0.1a0) (1.5)\n",
      "Requirement already satisfied: ConfigArgParse in c:\\users\\john.parent\\appdata\\local\\programs\\python\\python38\\lib\\site-packages (from autopybind11==0.1a0) (1.2.3)\n",
      "Requirement already satisfied: PyYAML>=5.1 in c:\\users\\john.parent\\appdata\\local\\programs\\python\\python38\\lib\\site-packages (from autopybind11==0.1a0) (5.3.1)\n",
      "Requirement already satisfied: pygccxml in c:\\users\\john.parent\\appdata\\local\\programs\\python\\python38\\lib\\site-packages (from autopybind11==0.1a0) (2.1.0)\n",
      "Requirement already satisfied: numpy in c:\\users\\john.parent\\appdata\\local\\programs\\python\\python38\\lib\\site-packages (from autopybind11==0.1a0) (1.19.0)\n",
      "Requirement already satisfied: castxml in c:\\users\\john.parent\\appdata\\local\\programs\\python\\python38\\lib\\site-packages (from autopybind11==0.1a0) (0.4.2)\n",
      "Installing collected packages: autopybind11\n",
      "  Running setup.py develop for autopybind11\n",
      "Successfully installed autopybind11\n",
      "-- Performing Test HAS_MSVC_GL_LTCG\n",
      "-- Performing Test HAS_MSVC_GL_LTCG - Success\n",
      "-- LTO enabled\n",
      "-- Configuring done\n",
      "-- Generating done\n",
      "-- Build files have been written to: C:/apb_poster/example/build\n",
      "Microsoft (R) Build Engine version 16.9.0+57a23d249 for .NET Framework\n",
      "Copyright (C) Microsoft Corporation. All rights reserved.\n",
      "\n",
      "  Checking Build System\n",
      "  Building Custom Rule C:/apb_poster/example/CMakeLists.txt\n",
      "  main.cpp\n",
      "  example.vcxproj -> C:\\apb_poster\\example\\build\\Debug\\example.lib\n",
      "  Generating exampleMod.cpp, exampleMod_free_functions_py.cpp, wrapper_exampleMod.cpp\n",
      "  Building Custom Rule C:/apb_poster/example/CMakeLists.txt\n",
      "  exampleMod.cpp\n",
      "  exampleMod_free_functions_py.cpp\n",
      "  Generating Code...\n",
      "     Creating library C:/apb_poster/example/build/Debug/exampleMod.lib and object C:/apb_poster/example/build/Debug/exampleMod.exp\n",
      "  exampleMod.vcxproj -> C:\\apb_poster\\example\\build\\Debug\\exampleMod.cp38-win_amd64.pyd\n",
      "  Building Custom Rule C:/apb_poster/example/CMakeLists.txt\n"
     ]
    }
   ],
   "source": [
    "!mkdir build\n",
    "!cd build && cmake .. && cmake --build . "
   ]
  },
  {
   "source": [
    "Now that AutoPyBind11 has generated binidng code and produced a Python module, lets view the generated binding code, and test out the module"
   ],
   "cell_type": "markdown",
   "metadata": {}
  },
  {
   "source": [
    "Binding code output:"
   ],
   "cell_type": "markdown",
   "metadata": {}
  },
  {
   "cell_type": "code",
   "execution_count": 3,
   "metadata": {},
   "outputs": [],
   "source": [
    "!python ../poster_helpers/render_binding_code.py --code_dir ./build/exampleMod_free_functions_py.cpp"
   ]
  },
  {
   "source": [
    "In order to interact with the generated python code, add the location of the generated binary to the system path via the call below."
   ],
   "cell_type": "markdown",
   "metadata": {}
  },
  {
   "cell_type": "code",
   "execution_count": 4,
   "metadata": {},
   "outputs": [
    {
     "output_type": "error",
     "ename": "ModuleNotFoundError",
     "evalue": "No module named 'exampleMod'",
     "traceback": [
      "\u001b[1;31m---------------------------------------------------------------------------\u001b[0m",
      "\u001b[1;31mModuleNotFoundError\u001b[0m                       Traceback (most recent call last)",
      "\u001b[1;32m<ipython-input-4-510f856b7649>\u001b[0m in \u001b[0;36m<module>\u001b[1;34m\u001b[0m\n\u001b[0;32m      1\u001b[0m \u001b[1;32mimport\u001b[0m \u001b[0msys\u001b[0m\u001b[1;33m,\u001b[0m \u001b[0mos\u001b[0m\u001b[1;33m\u001b[0m\u001b[1;33m\u001b[0m\u001b[0m\n\u001b[0;32m      2\u001b[0m \u001b[0msys\u001b[0m\u001b[1;33m.\u001b[0m\u001b[0mpath\u001b[0m\u001b[1;33m.\u001b[0m\u001b[0mappend\u001b[0m\u001b[1;33m(\u001b[0m\u001b[0mos\u001b[0m\u001b[1;33m.\u001b[0m\u001b[0msep\u001b[0m\u001b[1;33m.\u001b[0m\u001b[0mjoin\u001b[0m\u001b[1;33m(\u001b[0m\u001b[1;33m[\u001b[0m\u001b[0mos\u001b[0m\u001b[1;33m.\u001b[0m\u001b[0mgetcwd\u001b[0m\u001b[1;33m(\u001b[0m\u001b[1;33m)\u001b[0m\u001b[1;33m]\u001b[0m\u001b[1;33m)\u001b[0m\u001b[1;33m)\u001b[0m\u001b[1;33m\u001b[0m\u001b[1;33m\u001b[0m\u001b[0m\n\u001b[1;32m----> 3\u001b[1;33m \u001b[1;32mimport\u001b[0m \u001b[0mexampleMod\u001b[0m\u001b[1;33m\u001b[0m\u001b[1;33m\u001b[0m\u001b[0m\n\u001b[0m\u001b[0;32m      4\u001b[0m \u001b[1;33m\u001b[0m\u001b[0m\n\u001b[0;32m      5\u001b[0m \u001b[0mprint\u001b[0m\u001b[1;33m(\u001b[0m\u001b[1;34m\"ExampleMod test of add of 1 and 2 is {}\"\u001b[0m\u001b[1;33m.\u001b[0m\u001b[0mformat\u001b[0m\u001b[1;33m(\u001b[0m\u001b[0mexampleMod\u001b[0m\u001b[1;33m.\u001b[0m\u001b[0madd\u001b[0m\u001b[1;33m(\u001b[0m\u001b[1;36m1\u001b[0m\u001b[1;33m,\u001b[0m\u001b[1;36m2\u001b[0m\u001b[1;33m)\u001b[0m\u001b[1;33m)\u001b[0m\u001b[1;33m)\u001b[0m\u001b[1;33m\u001b[0m\u001b[1;33m\u001b[0m\u001b[0m\n",
      "\u001b[1;31mModuleNotFoundError\u001b[0m: No module named 'exampleMod'"
     ]
    }
   ],
   "source": [
    "import sys, os\n",
    "sys.path.append()\n",
    "import exampleMod\n",
    "\n",
    "print(\"ExampleMod test of add of 1 and 2 is {}\".format(exampleMod.add(1,2)))\n",
    "print(\"ExampleMod test of sub of 1 from 5 is {}\".format(exampleMod.sub(5,1)))"
   ]
  },
  {
   "cell_type": "code",
   "execution_count": null,
   "metadata": {},
   "outputs": [],
   "source": []
  }
 ]
}