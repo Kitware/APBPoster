{
 "metadata": {
  "language_info": {
   "codemirror_mode": {
    "name": "ipython",
    "version": 3
   },
   "file_extension": ".py",
   "mimetype": "text/x-python",
   "name": "python",
   "nbconvert_exporter": "python",
   "pygments_lexer": "ipython3",
   "version": "3.7.8"
  },
  "orig_nbformat": 2,
  "kernelspec": {
   "name": "python3",
   "display_name": "Python 3.7.8 64-bit"
  },
  "interpreter": {
   "hash": "e7a6a2a0faef9b3dca8eee8d2f0177f3278be1cb967e7fc435687a2394b4cb7a"
  }
 },
 "nbformat": 4,
 "nbformat_minor": 2,
 "cells": [
  {
   "source": [
    "AutoPyBind11 Example Notebook\n",
    "=============================\n"
   ],
   "cell_type": "markdown",
   "metadata": {}
  },
  {
   "source": [
    "Example simple wrapper file:\n",
    "```yaml\n",
    "files:\n",
    "  main.cpp:\n",
    "    functions:\n",
    "      add:\n",
    "      sub:\n",
    "```\n"
   ],
   "cell_type": "markdown",
   "metadata": {}
  },
  {
   "source": [
    "Sample CMake project file:\n",
    "```cmake\n",
    "add_library(example src/main.cpp)\n",
    "target_include_directories(example PUBLIC ${CMAKE_CURRENT_SOURCE_DIR}/src)\n",
    "\n",
    "autopybind11_add_module(exampleMod\n",
    "                        YAML_INPUT ${CMAKE_CURRENT_SOURCE_DIR}/example_wrap.yml\n",
    "                        DESTINATION ${CMAKE_CURRENT_BINARY_DIR}\n",
    "                        LINK_LIBRARIES example)\n",
    "```\n",
    "here we leave out loading AutoPyBind11's CMake interface into this project or running the installation, of AutoPyBind11. For an example of this, see the advanced examples directory"
   ],
   "cell_type": "markdown",
   "metadata": {}
  },
  {
   "source": [
    "C++ code to be bound by AutoPyBind11\n",
    "```c++\n",
    "\n",
    "// Sum two numbers\n",
    "int add(int i, int j) {\n",
    "    return i + j;\n",
    "}\n",
    "\n",
    "// Subtract two numbers\n",
    "int sub(int i, int j) {\n",
    "    return i - j;\n",
    "}\n",
    "```"
   ],
   "cell_type": "markdown",
   "metadata": {}
  },
  {
   "source": [
    "CMake useage example"
   ],
   "cell_type": "markdown",
   "metadata": {}
  },
  {
   "cell_type": "code",
   "execution_count": null,
   "metadata": {},
   "outputs": [],
   "source": [
    "!mkdir build\n",
    "!cd build && cmake .. && cmake --build . "
   ]
  },
  {
   "source": [
    "Now that AutoPyBind11 has generated binidng code and produced a Python module, lets view the generated binding code, and test out the module"
   ],
   "cell_type": "markdown",
   "metadata": {}
  },
  {
   "source": [
    "Binding code output:"
   ],
   "cell_type": "markdown",
   "metadata": {}
  },
  {
   "cell_type": "code",
   "execution_count": null,
   "metadata": {},
   "outputs": [],
   "source": [
    "!python ../render_binding_code.py --code ./build/exampleMod_free_functions_py.cpp"
   ]
  },
  {
   "cell_type": "code",
   "execution_count": null,
   "metadata": {},
   "outputs": [],
   "source": [
    "import sys, os\n",
    "sys.path.append(os.sep.join([os.getcwd()]))\n",
    "import exampleMod\n",
    "\n",
    "print(\"ExampleMod test of add of 1 and 2 is {}\".format(exampleMod.add(1,2)))\n",
    "print(\"ExampleMod test of sub of 1 from 5 is {}\".format(exampleMod.sub(5,1)))"
   ]
  },
  {
   "cell_type": "code",
   "execution_count": null,
   "metadata": {},
   "outputs": [],
   "source": []
  }
 ]
}